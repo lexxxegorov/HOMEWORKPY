{
  "nbformat": 4,
  "nbformat_minor": 0,
  "metadata": {
    "colab": {
      "provenance": [],
      "authorship_tag": "ABX9TyNoPtCpjDXyldP8vkXDMtg3",
      "include_colab_link": true
    },
    "kernelspec": {
      "name": "python3",
      "display_name": "Python 3"
    },
    "language_info": {
      "name": "python"
    }
  },
  "cells": [
    {
      "cell_type": "markdown",
      "metadata": {
        "id": "view-in-github",
        "colab_type": "text"
      },
      "source": [
        "<a href=\"https://colab.research.google.com/github/lexxxegorov/HOMEWORKPY/blob/master/Lesson_9_.ipynb\" target=\"_parent\"><img src=\"https://colab.research.google.com/assets/colab-badge.svg\" alt=\"Open In Colab\"/></a>"
      ]
    },
    {
      "cell_type": "markdown",
      "source": [
        "Даны значения величины заработной платы заемщиков банка (zp) и значения их поведенческого кредитного скоринга (ks): zp = [35, 45, 190, 200, 40, 70, 54, 150, 120, 110], ks = [401, 574, 874, 919, 459, 739, 653, 902, 746, 832]. Используя математические операции, посчитать коэффициенты линейной регрессии, приняв за X заработную плату (то есть, zp - признак), а за y - значения скорингового балла (то есть, ks - целевая переменная). Произвести расчет как с использованием intercept, так и без."
      ],
      "metadata": {
        "id": "S-vFSuZ84ouu"
      }
    },
    {
      "cell_type": "code",
      "execution_count": null,
      "metadata": {
        "id": "wZHvGrLR4fcN"
      },
      "outputs": [],
      "source": [
        "import numpy as np\n",
        "import scipy.stats as stats\n",
        "import matplotlib.pyplot as plt"
      ]
    },
    {
      "cell_type": "code",
      "source": [
        "x_zp = np.array([35, 45, 190, 200, 40, 70, 54, 150, 120, 110])\n",
        "y_ks = np.array([401, 574, 874, 919, 459, 739, 653, 902, 746, 832])\n"
      ],
      "metadata": {
        "id": "o2ZYmfaa5D41"
      },
      "execution_count": null,
      "outputs": []
    },
    {
      "cell_type": "code",
      "source": [
        "plt.scatter(x_zp, y_ks)"
      ],
      "metadata": {
        "colab": {
          "base_uri": "https://localhost:8080/",
          "height": 283
        },
        "id": "weg23y-75jt9",
        "outputId": "bb80128e-95e7-4bcf-a77b-af041fe88b8b"
      },
      "execution_count": null,
      "outputs": [
        {
          "output_type": "execute_result",
          "data": {
            "text/plain": [
              "<matplotlib.collections.PathCollection at 0x7f56ed301d90>"
            ]
          },
          "metadata": {},
          "execution_count": 4
        },
        {
          "output_type": "display_data",
          "data": {
            "text/plain": [
              "<Figure size 432x288 with 1 Axes>"
            ],
            "image/png": "[encoded data removed]"
          },
          "metadata": {
            "needs_background": "light"
          }
        }
      ]
    },
    {
      "cell_type": "code",
      "source": [
        "x_zp = x_zp.reshape(-1,1)\n",
        "x_zp"
      ],
      "metadata": {
        "colab": {
          "base_uri": "https://localhost:8080/"
        },
        "id": "Ecw5BVYg69qD",
        "outputId": "df7b1b9a-a1ec-4cde-ca1e-ba7a920fc583"
      },
      "execution_count": null,
      "outputs": [
        {
          "output_type": "execute_result",
          "data": {
            "text/plain": [
              "array([[ 35],\n",
              "       [ 45],\n",
              "       [190],\n",
              "       [200],\n",
              "       [ 40],\n",
              "       [ 70],\n",
              "       [ 54],\n",
              "       [150],\n",
              "       [120],\n",
              "       [110]])"
            ]
          },
          "metadata": {},
          "execution_count": 10
        }
      ]
    },
    {
      "cell_type": "code",
      "source": [
        "from sklearn.linear_model import LinearRegression\n",
        "model = LinearRegression()\n",
        "model.fit(x_zp, y_ks)\n",
        "r_sq = model.score(x_zp, y_ks)\n",
        "r_sq"
      ],
      "metadata": {
        "colab": {
          "base_uri": "https://localhost:8080/"
        },
        "id": "8xH9zT3T6JQx",
        "outputId": "395201b4-10a0-4ddf-9ec7-167968bf4d0c"
      },
      "execution_count": null,
      "outputs": [
        {
          "output_type": "execute_result",
          "data": {
            "text/plain": [
              "0.7876386635293685"
            ]
          },
          "metadata": {},
          "execution_count": 29
        }
      ]
    },
    {
      "cell_type": "code",
      "source": [
        "model.intercept_"
      ],
      "metadata": {
        "colab": {
          "base_uri": "https://localhost:8080/"
        },
        "id": "SmYnk0it7TOk",
        "outputId": "eae95569-6ea6-4d60-c222-2ad5246a2fe0"
      },
      "execution_count": null,
      "outputs": [
        {
          "output_type": "execute_result",
          "data": {
            "text/plain": [
              "444.1773573243595"
            ]
          },
          "metadata": {},
          "execution_count": 28
        }
      ]
    },
    {
      "cell_type": "code",
      "source": [
        "model.coef_"
      ],
      "metadata": {
        "colab": {
          "base_uri": "https://localhost:8080/"
        },
        "id": "xteNBvnu857U",
        "outputId": "95e11c96-f641-4218-932f-58ca1b04bb24"
      },
      "execution_count": null,
      "outputs": [
        {
          "output_type": "execute_result",
          "data": {
            "text/plain": [
              "array([2.62053888])"
            ]
          },
          "metadata": {},
          "execution_count": 27
        }
      ]
    },
    {
      "cell_type": "code",
      "source": [
        "plt.scatter(x_zp, y_ks)\n",
        "plt.plot(x_zp,444.18 + 2.62*x_zp)"
      ],
      "metadata": {
        "colab": {
          "base_uri": "https://localhost:8080/",
          "height": 283
        },
        "id": "s8_l-xjp9Rtf",
        "outputId": "14266da1-3a0c-4a6e-aaea-3fa92b0927a6"
      },
      "execution_count": null,
      "outputs": [
        {
          "output_type": "execute_result",
          "data": {
            "text/plain": [
              "[<matplotlib.lines.Line2D at 0x7f56ebfc0f10>]"
            ]
          },
          "metadata": {},
          "execution_count": 30
        },
        {
          "output_type": "display_data",
          "data": {
            "text/plain": [
              "<Figure size 432x288 with 1 Axes>"
            ],
            "image/png": "[encoded data removed]"
          },
          "metadata": {
            "needs_background": "light"
          }
        }
      ]
    },
    {
      "cell_type": "code",
      "source": [
        "plt.scatter(x_zp, y_ks)\n",
        "plt.plot(x_zp, 2.62*x_zp)"
      ],
      "metadata": {
        "colab": {
          "base_uri": "https://localhost:8080/",
          "height": 283
        },
        "id": "kLcVjhPr979e",
        "outputId": "4ec2089c-ecf5-4c80-e710-6630dafbc89c"
      },
      "execution_count": null,
      "outputs": [
        {
          "output_type": "execute_result",
          "data": {
            "text/plain": [
              "[<matplotlib.lines.Line2D at 0x7f56ebef1290>]"
            ]
          },
          "metadata": {},
          "execution_count": 31
        },
        {
          "output_type": "display_data",
          "data": {
            "text/plain": [
              "<Figure size 432x288 with 1 Axes>"
            ],
            "image/png": "[encoded data removed]"
          },
          "metadata": {
            "needs_background": "light"
          }
        }
      ]
    },
    {
      "cell_type": "markdown",
      "source": [
        "Посчитать коэффициент линейной регрессии при заработной плате (zp), используя градиентный спуск (без intercept)."
      ],
      "metadata": {
        "id": "8I-cVNdiaiGH"
      }
    },
    {
      "cell_type": "code",
      "source": [
        "x_zp = np.array([35, 45, 190, 200, 40, 70, 54, 150, 120, 110])\n",
        "y_ks = np.array([401, 574, 874, 919, 459, 739, 653, 902, 746, 832])\n"
      ],
      "metadata": {
        "id": "GEH8UL-yamYq"
      },
      "execution_count": null,
      "outputs": []
    },
    {
      "cell_type": "code",
      "source": [
        "from re import X\n",
        "def mse_(B1,y_ks = y_ks, x_zp = x_zp, n = 10):\n",
        "  return np.sum((B1+x_zp - y_ks)**2)/n\n",
        "\n",
        "alpha = 1e-6\n",
        "\n",
        "B1 = 0.1\n",
        "n = 10\n",
        "\n",
        "for i in range(10):\n",
        "  B1 -= alpha*(2/n) * np.sum((B1 * x_zp - y_ks)* x_zp)\n",
        "  print ( 'B1 = {}'.format(B1))"
      ],
      "metadata": {
        "colab": {
          "base_uri": "https://localhost:8080/"
        },
        "id": "sJoeQOSZbYHk",
        "outputId": "ba11b457-3c2c-4496-efcc-f95e761cccc6"
      },
      "execution_count": null,
      "outputs": [
        {
          "output_type": "stream",
          "name": "stdout",
          "text": [
            "B1 = 0.25952808\n",
            "B1 = 0.414660650906144\n",
            "B1 = 0.5655188230595969\n",
            "B1 = 0.7122203698240712\n",
            "B1 = 0.8548798195302346\n",
            "B1 = 0.9936085448867542\n",
            "B1 = 1.1285148499277806\n",
            "B1 = 1.2597040545647504\n",
            "B1 = 1.387278576808517\n",
            "B1 = 1.5113380127259965\n"
          ]
        }
      ]
    },
    {
      "cell_type": "code",
      "source": [
        "for i in range(3000):\n",
        "  B1 -= alpha*(2/n) * np.sum((B1 * x_zp - y_ks)* x_zp)\n",
        "  if i %500 == 0:\n",
        "    print ( 'Iteration = {i},B1 = {B1}, mse = {mse}'.format(i=i, B1=B1, mse = mse_(B1)))"
      ],
      "metadata": {
        "colab": {
          "base_uri": "https://localhost:8080/"
        },
        "id": "brHLWISkdSoK",
        "outputId": "9698cfcd-099a-412c-9ac0-ba88ad282726"
      },
      "execution_count": null,
      "outputs": [
        {
          "output_type": "stream",
          "name": "stdout",
          "text": [
            "Iteration = 0,B1 = 5.889820420132673, mse = 378786.87853328\n",
            "Iteration = 500,B1 = 5.889820420132673, mse = 378786.87853328\n",
            "Iteration = 1000,B1 = 5.889820420132673, mse = 378786.87853328\n",
            "Iteration = 1500,B1 = 5.889820420132673, mse = 378786.87853328\n",
            "Iteration = 2000,B1 = 5.889820420132673, mse = 378786.87853328\n",
            "Iteration = 2500,B1 = 5.889820420132673, mse = 378786.87853328\n"
          ]
        }
      ]
    },
    {
      "cell_type": "code",
      "source": [
        "mse_(5.88982)"
      ],
      "metadata": {
        "colab": {
          "base_uri": "https://localhost:8080/"
        },
        "id": "4LTNNcGEeJrG",
        "outputId": "ac40bed6-45e8-4907-c003-1f21ca30d615"
      },
      "execution_count": null,
      "outputs": [
        {
          "output_type": "execute_result",
          "data": {
            "text/plain": [
              "378786.87903963245"
            ]
          },
          "metadata": {},
          "execution_count": 7
        }
      ]
    },
    {
      "cell_type": "markdown",
      "source": [
        "#С интерсептом#"
      ],
      "metadata": {
        "id": "boF5h1e2k4vu"
      }
    },
    {
      "cell_type": "code",
      "source": [
        "from re import X\n",
        "def mse_(B1,y_ks = y_ks, x_zp = x_zp, n = 10):\n",
        "  return np.sum((B1+x_zp - y_ks)**2)/n\n",
        "\n",
        "alpha = 1e-6\n",
        "\n",
        "B1 = 0.1\n",
        "n = 10\n",
        "\n",
        "for i in range(10):\n",
        "  B1 -= alpha*(2/n) * np.sum((B1 * x_zp - y_ks)* x_zp)\n",
        "  B0 = np.mean(y_ks) - B1*np.mean(x_zp)\n",
        "  print ( 'B1 = {}'.format(B1), 'B0 = {}'.format(B0))"
      ],
      "metadata": {
        "colab": {
          "base_uri": "https://localhost:8080/"
        },
        "id": "-Z0h10u5lBG3",
        "outputId": "d0147cee-4f2f-4d24-e384-db8f5737ca16"
      },
      "execution_count": null,
      "outputs": [
        {
          "output_type": "stream",
          "name": "stdout",
          "text": [
            "B1 = 0.25952808 B0 = 683.583852688\n",
            "B1 = 0.414660650906144 B0 = 667.853409998117\n",
            "B1 = 0.5655188230595969 B0 = 652.5563913417568\n",
            "B1 = 0.7122203698240712 B0 = 637.6808544998391\n",
            "B1 = 0.8548798195302346 B0 = 623.2151862996342\n",
            "B1 = 0.9936085448867542 B0 = 609.1480935484831\n",
            "B1 = 1.1285148499277806 B0 = 595.468594217323\n",
            "B1 = 1.2597040545647504 B0 = 582.1660088671342\n",
            "B1 = 1.387278576808517 B0 = 569.2299523116163\n",
            "B1 = 1.5113380127259965 B0 = 556.6503255095839\n"
          ]
        }
      ]
    },
    {
      "cell_type": "code",
      "source": [
        "for i in range(5000):\n",
        "  B1 -= alpha*(2/n) * np.sum((B1 * x_zp - y_ks)* x_zp)\n",
        "  B0 = np.mean(y_ks) - B1*np.mean(x_zp)\n",
        "  if i %500 == 0:\n",
        "    print ( 'Iteration = {i},B1 = {B1},B0 = {B0}, mse = {mse}'.format(i=i, B1=B1,B0 = B0, mse = mse_(B1)))"
      ],
      "metadata": {
        "colab": {
          "base_uri": "https://localhost:8080/"
        },
        "id": "l0ND8JgPlBxf",
        "outputId": "32a44357-2d50-4dcf-c338-674426878ded"
      },
      "execution_count": null,
      "outputs": [
        {
          "output_type": "stream",
          "name": "stdout",
          "text": [
            "Iteration = 0,B1 = 5.889820420132673,B0 = 112.6722093985469, mse = 378786.87853328\n",
            "Iteration = 500,B1 = 5.889820420132673,B0 = 112.6722093985469, mse = 378786.87853328\n",
            "Iteration = 1000,B1 = 5.889820420132673,B0 = 112.6722093985469, mse = 378786.87853328\n",
            "Iteration = 1500,B1 = 5.889820420132673,B0 = 112.6722093985469, mse = 378786.87853328\n",
            "Iteration = 2000,B1 = 5.889820420132673,B0 = 112.6722093985469, mse = 378786.87853328\n",
            "Iteration = 2500,B1 = 5.889820420132673,B0 = 112.6722093985469, mse = 378786.87853328\n",
            "Iteration = 3000,B1 = 5.889820420132673,B0 = 112.6722093985469, mse = 378786.87853328\n",
            "Iteration = 3500,B1 = 5.889820420132673,B0 = 112.6722093985469, mse = 378786.87853328\n",
            "Iteration = 4000,B1 = 5.889820420132673,B0 = 112.6722093985469, mse = 378786.87853328\n",
            "Iteration = 4500,B1 = 5.889820420132673,B0 = 112.6722093985469, mse = 378786.87853328\n"
          ]
        }
      ]
    }
  ]
}