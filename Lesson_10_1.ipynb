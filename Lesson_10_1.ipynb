{
  "nbformat": 4,
  "nbformat_minor": 0,
  "metadata": {
    "colab": {
      "provenance": [],
      "authorship_tag": "ABX9TyMKY83fwF1fYuogApqgBSjJ",
      "include_colab_link": true
    },
    "kernelspec": {
      "name": "python3",
      "display_name": "Python 3"
    },
    "language_info": {
      "name": "python"
    }
  },
  "cells": [
    {
      "cell_type": "markdown",
      "metadata": {
        "id": "view-in-github",
        "colab_type": "text"
      },
      "source": [
        "<a href=\"https://colab.research.google.com/github/lexxxegorov/HOMEWORKPY/blob/master/Lesson_10_1.ipynb\" target=\"_parent\"><img src=\"https://colab.research.google.com/assets/colab-badge.svg\" alt=\"Open In Colab\"/></a>"
      ]
    },
    {
      "cell_type": "markdown",
      "source": [
        "**Провести дисперсионный анализ для определения того, есть ли различия среднего роста среди взрослых футболистов, хоккеистов и штангистов. Даны значения роста в трех группах случайно выбранных спортсменов: Футболисты: 173, 175, 180, 178, 177, 185, 183, 182. Хоккеисты: 177, 179, 180, 188, 177, 172, 171, 184, 180. Штангисты: 172, 173, 169, 177, 166, 180, 178, 177, 172, 166, 170.**"
      ],
      "metadata": {
        "id": "h9Hd2KBvDkKs"
      }
    },
    {
      "cell_type": "code",
      "execution_count": null,
      "metadata": {
        "id": "R8Fg_bLODjil"
      },
      "outputs": [],
      "source": [
        "import numpy as np\n",
        "from scipy import stats"
      ]
    },
    {
      "cell_type": "code",
      "source": [
        "foot = np.array([173, 175, 180, 178, 177, 185, 183, 182])\n",
        "hoock = np.array([177, 179, 180, 188, 177, 172, 171, 184, 180])\n",
        "lift = np.array([172, 173, 169, 177, 166, 180, 178, 177, 172, 166, 170])"
      ],
      "metadata": {
        "id": "Wc9VUikZEo6j"
      },
      "execution_count": null,
      "outputs": []
    },
    {
      "cell_type": "markdown",
      "source": [
        "#Значения групп должны следовать нормальному распределению#"
      ],
      "metadata": {
        "id": "76KXhrnyFG8h"
      }
    },
    {
      "cell_type": "code",
      "source": [
        "stats.shapiro(foot)"
      ],
      "metadata": {
        "colab": {
          "base_uri": "https://localhost:8080/"
        },
        "id": "gHynsoMHFI1F",
        "outputId": "402380df-eb74-45c6-8540-cf4c9f3fc7a8"
      },
      "execution_count": null,
      "outputs": [
        {
          "output_type": "execute_result",
          "data": {
            "text/plain": [
              "ShapiroResult(statistic=0.9775081276893616, pvalue=0.9495397210121155)"
            ]
          },
          "metadata": {},
          "execution_count": 3
        }
      ]
    },
    {
      "cell_type": "code",
      "source": [
        "stats.shapiro(hoock)"
      ],
      "metadata": {
        "colab": {
          "base_uri": "https://localhost:8080/"
        },
        "id": "SwKvRK5fFPaC",
        "outputId": "8d0640d6-a3f8-46e5-ba5c-7f5a309782ed"
      },
      "execution_count": null,
      "outputs": [
        {
          "output_type": "execute_result",
          "data": {
            "text/plain": [
              "ShapiroResult(statistic=0.9579195976257324, pvalue=0.7763133645057678)"
            ]
          },
          "metadata": {},
          "execution_count": 4
        }
      ]
    },
    {
      "cell_type": "code",
      "source": [
        "stats.shapiro(lift)"
      ],
      "metadata": {
        "colab": {
          "base_uri": "https://localhost:8080/"
        },
        "id": "EaCLCsRIFW4S",
        "outputId": "36a38fe7-146d-4850-e845-4a58bb54786f"
      },
      "execution_count": null,
      "outputs": [
        {
          "output_type": "execute_result",
          "data": {
            "text/plain": [
              "ShapiroResult(statistic=0.93868088722229, pvalue=0.5051169991493225)"
            ]
          },
          "metadata": {},
          "execution_count": 5
        }
      ]
    },
    {
      "cell_type": "markdown",
      "source": [
        "**Распределение нормальное**"
      ],
      "metadata": {
        "id": "eRvPgDcGF84W"
      }
    },
    {
      "cell_type": "markdown",
      "source": [
        "#Однородность дисперсий#"
      ],
      "metadata": {
        "id": "s9OyflWcGFPl"
      }
    },
    {
      "cell_type": "code",
      "source": [
        "stats.bartlett(foot, hoock, lift)"
      ],
      "metadata": {
        "colab": {
          "base_uri": "https://localhost:8080/"
        },
        "id": "emDeDj3AGB34",
        "outputId": "cdf1d99f-ca76-4c64-93e5-ee7619fd0212"
      },
      "execution_count": null,
      "outputs": [
        {
          "output_type": "execute_result",
          "data": {
            "text/plain": [
              "BartlettResult(statistic=0.4640521043406442, pvalue=0.7929254656083131)"
            ]
          },
          "metadata": {},
          "execution_count": 7
        }
      ]
    },
    {
      "cell_type": "markdown",
      "source": [
        "**Дисперсия однородная**"
      ],
      "metadata": {
        "id": "m-v4BPs5HSh9"
      }
    },
    {
      "cell_type": "code",
      "source": [
        "f = stats.f_oneway(foot, hoock, lift)\n",
        "f"
      ],
      "metadata": {
        "colab": {
          "base_uri": "https://localhost:8080/"
        },
        "id": "H7Wg8DI9IlM7",
        "outputId": "53cfe1ed-07d7-4b4f-faa1-cc68832ebe7a"
      },
      "execution_count": null,
      "outputs": [
        {
          "output_type": "execute_result",
          "data": {
            "text/plain": [
              "F_onewayResult(statistic=5.500053450812596, pvalue=0.010482206918698694)"
            ]
          },
          "metadata": {},
          "execution_count": 9
        }
      ]
    },
    {
      "cell_type": "markdown",
      "source": [
        "p value < a, значит принимаем альтернативную гипотезу. Различия есть. "
      ],
      "metadata": {
        "id": "AmxoJ1uyLayb"
      }
    },
    {
      "cell_type": "code",
      "source": [
        "from statsmodels.stats.multicomp import pairwise_tukeyhsd\n",
        "import pandas as pd\n"
      ],
      "metadata": {
        "id": "KxBHuHk8LZt7"
      },
      "execution_count": null,
      "outputs": []
    },
    {
      "cell_type": "code",
      "source": [
        "df = pd.DataFrame({'scope': [173, 175, 180, 178, 177, 185, 183, 182,\n",
        "                             177, 179, 180, 188, 177, 172, 171, 184, 180,\n",
        "                             172, 173, 169, 177, 166, 180, 178, 177, 172, 166, 170],\n",
        "                  'group': np.repeat(['footbal', 'hoockey', 'lifting'], repeats =[8,9,11])})\n",
        "tukey = pairwise_tukeyhsd (endog=df['scope'],\n",
        "                           groups=df['group'],\n",
        "                           alpha=0.05)\n",
        "print(tukey)\n"
      ],
      "metadata": {
        "colab": {
          "base_uri": "https://localhost:8080/"
        },
        "id": "x5EZEKl2Q3cn",
        "outputId": "c543c4f5-f5d0-456c-eefb-28f6baea40d4"
      },
      "execution_count": null,
      "outputs": [
        {
          "output_type": "stream",
          "name": "stdout",
          "text": [
            "  Multiple Comparison of Means - Tukey HSD, FWER=0.05  \n",
            "=======================================================\n",
            " group1  group2 meandiff p-adj   lower    upper  reject\n",
            "-------------------------------------------------------\n",
            "footbal hoockey  -0.4583    0.9  -6.2722  5.3555  False\n",
            "footbal lifting  -6.3977 0.0218 -11.9573 -0.8382   True\n",
            "hoockey lifting  -5.9394 0.0283 -11.3172 -0.5616   True\n",
            "-------------------------------------------------------\n"
          ]
        }
      ]
    },
    {
      "cell_type": "markdown",
      "source": [
        "У штангистов есть различия в росте по сравнению с футболистами и хоккеистами. "
      ],
      "metadata": {
        "id": "ZNH2cX_uSLTj"
      }
    },
    {
      "cell_type": "code",
      "source": [],
      "metadata": {
        "id": "rkmAhClNSpl_"
      },
      "execution_count": null,
      "outputs": []
    }
  ]
}