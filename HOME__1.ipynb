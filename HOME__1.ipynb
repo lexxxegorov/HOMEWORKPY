{
  "nbformat": 4,
  "nbformat_minor": 0,
  "metadata": {
    "colab": {
      "provenance": [],
      "collapsed_sections": [],
      "include_colab_link": true
    },
    "kernelspec": {
      "name": "python3",
      "display_name": "Python 3"
    },
    "language_info": {
      "name": "python"
    }
  },
  "cells": [
    {
      "cell_type": "markdown",
      "metadata": {
        "id": "view-in-github",
        "colab_type": "text"
      },
      "source": [
        "<a href=\"https://colab.research.google.com/github/lexxxegorov/HOMEWORKPY/blob/master/HOME__1.ipynb\" target=\"_parent\"><img src=\"https://colab.research.google.com/assets/colab-badge.svg\" alt=\"Open In Colab\"/></a>"
      ]
    },
    {
      "cell_type": "markdown",
      "source": [
        "##Задание1\n",
        "**На складе лежат разные фрукты в разном количестве.\n",
        "Нужно написать функцию, которая на вход принимает любое количество названий фруктов и их количество, а возвращает общее количество фруктов на складе**"
      ],
      "metadata": {
        "id": "F2TGpQv62lub"
      }
    },
    {
      "cell_type": "code",
      "source": [
        "def total_fruits (**kwargs: dict) -> int:\n",
        "\n",
        "  return {'total fruits': kwargs,'summary': sum(kwargs.values())}\n",
        "\n"
      ],
      "metadata": {
        "id": "ttzjpUUk6oUF"
      },
      "execution_count": null,
      "outputs": []
    },
    {
      "cell_type": "code",
      "source": [
        "total_fruits(banana = 400, apple = 100, orange = 300)"
      ],
      "metadata": {
        "colab": {
          "base_uri": "https://localhost:8080/"
        },
        "id": "ZjlovHkL8Rbi",
        "outputId": "991d08a3-b8c1-4e6b-a74a-bd871d16735a"
      },
      "execution_count": null,
      "outputs": [
        {
          "output_type": "execute_result",
          "data": {
            "text/plain": [
              "{'total fruits': {'banana': 400, 'apple': 100, 'orange': 300}, 'summary': 800}"
            ]
          },
          "metadata": {},
          "execution_count": 3
        }
      ]
    },
    {
      "cell_type": "markdown",
      "source": [
        "##Задание2\n",
        "**Дан список с затратами на рекламу. Но в данных есть ошибки, некоторые затраты имеют отрицательную величину. Удалите такие значения из списка и посчитайте суммарные затраты\n",
        "[100, 125, -90, 345, 655, -1, 0, 200]\n",
        "Используйте list comprehensions**\n"
      ],
      "metadata": {
        "id": "TuC4vzTVETWp"
      }
    },
    {
      "cell_type": "code",
      "source": [
        "initial_price = [100, 125, -90, 345, 655, -1, 0, 200] "
      ],
      "metadata": {
        "id": "1Xb72j0UEddY"
      },
      "execution_count": null,
      "outputs": []
    },
    {
      "cell_type": "code",
      "source": [
        "prices = [i if i > 0 else 0 for i in initial_price ] \n",
        "summary = sum(prices)\n",
        "f'sum:{prices} = {summary}'"
      ],
      "metadata": {
        "colab": {
          "base_uri": "https://localhost:8080/",
          "height": 35
        },
        "id": "3fuu0_1fFKxk",
        "outputId": "958bf790-0374-4cae-a724-7f7898e7e7e0"
      },
      "execution_count": null,
      "outputs": [
        {
          "output_type": "execute_result",
          "data": {
            "text/plain": [
              "'sum:[100, 125, 0, 345, 655, 0, 0, 200] = 1425'"
            ],
            "application/vnd.google.colaboratory.intrinsic+json": {
              "type": "string"
            }
          },
          "metadata": {},
          "execution_count": 38
        }
      ]
    },
    {
      "cell_type": "markdown",
      "source": [
        "##Задание4\n",
        "###Условие 4.1:\n",
        "**Даны два списка.\n",
        "Дата покупки\n",
        "['2021-09-14', '2021-12-15', '2021-09-08', '2021-12-05', '2021-10-09', '2021-09-30', '2021-12-22', '2021-11-29', '2021-12-24', '2021-11-26', '2021-10-27', '2021-12-18', '2021-11-09', '2021-11-23', '2021-09-27', '2021-10-02', '2021-12-27', '2021-09-20', '2021-12-13', '2021-11-01', '2021-11-09', '2021-12-06', '2021-12-08', '2021-10-09', '2021-10-31', '2021-09-30', '2021-11-09', '2021-12-13', '2021-10-26', '2021-12-09']\n",
        "Суммы покупок по датам\n",
        "[1270, 8413, 9028, 3703, 5739, 4095, 295, 4944, 5723, 3701, 4471, 651, 7037, 4274, 6275, 4988, 6930, 2971, 6592, 2004, 2822, 519, 3406, 2732, 5015, 2008, 316, 6333, 5700, 2887]**\n",
        "\n",
        "**Найдите, какая выручка у компании в ноябре**"
      ],
      "metadata": {
        "id": "rsMVRHMjICNE"
      }
    },
    {
      "cell_type": "code",
      "source": [
        "date_sale = ['2021-09-14', '2021-12-15', '2021-09-08', '2021-12-05', '2021-10-09', '2021-09-30', '2021-12-22', '2021-11-29', '2021-12-24', '2021-11-26', '2021-10-27', '2021-12-18', '2021-11-09', '2021-11-23', '2021-09-27', '2021-10-02', '2021-12-27', '2021-09-20', '2021-12-13', '2021-11-01', '2021-11-09', '2021-12-06', '2021-12-08', '2021-10-09', '2021-10-31', '2021-09-30', '2021-11-09', '2021-12-13', '2021-10-26', '2021-12-09']\n",
        "amounts = [1270, 8413, 9028, 3703, 5739, 4095, 295, 4944, 5723, 3701, 4471, 651, 7037, 4274, 6275, 4988, 6930, 2971, 6592, 2004, 2822, 519, 3406, 2732, 5015, 2008, 316, 6333, 5700, 2887]"
      ],
      "metadata": {
        "id": "DlRb4h6GIS_M"
      },
      "execution_count": null,
      "outputs": []
    },
    {
      "cell_type": "code",
      "source": [
        "date_amounts = dict(zip(date_sale,amounts))\n",
        "date_amounts"
      ],
      "metadata": {
        "id": "0IA6cLytNPoX"
      },
      "execution_count": null,
      "outputs": []
    },
    {
      "cell_type": "code",
      "source": [
        "sum([value for key, value in zip(date_sale, amounts) if key[5:7] == \"11\"])"
      ],
      "metadata": {
        "colab": {
          "base_uri": "https://localhost:8080/"
        },
        "id": "2b9FFGHLal03",
        "outputId": "ceae6055-19ea-42dc-9bc6-2925d323577a"
      },
      "execution_count": null,
      "outputs": [
        {
          "output_type": "execute_result",
          "data": {
            "text/plain": [
              "25098"
            ]
          },
          "metadata": {},
          "execution_count": 35
        }
      ]
    },
    {
      "cell_type": "markdown",
      "source": [
        "**4.2 Найдите bold text выручку компании в зависимости от месяца\n",
        "Для этого напишите функцию, которая на вход принимает список с датами и список с выручкой, а на выходе словарь, где ключи - это месяцы, а значения - это выручка.**"
      ],
      "metadata": {
        "id": "actn-vA7cHEJ"
      }
    },
    {
      "cell_type": "code",
      "source": [
        "def sum_month(date_sale: list, amounts: list) -> dict:\n",
        "    result = {}\n",
        "    for key, values in zip(date_sale, amounts):\n",
        "        if key[5:7] in result.keys():\n",
        "            result[key[5:7]] = result[key[5:7]] + values\n",
        "        else:\n",
        "            result[key[5:7]] = values\n",
        "    return result\n",
        " \n",
        "sum_month(date_sale, amounts)"
      ],
      "metadata": {
        "colab": {
          "base_uri": "https://localhost:8080/"
        },
        "id": "5xJjJ6rgYDQV",
        "outputId": "80ebef78-04b4-4e48-cd71-39f3d7fe516d"
      },
      "execution_count": null,
      "outputs": [
        {
          "output_type": "execute_result",
          "data": {
            "text/plain": [
              "{'09': 25647, '12': 45452, '10': 28645, '11': 25098}"
            ]
          },
          "metadata": {},
          "execution_count": 41
        }
      ]
    }
  ]
}