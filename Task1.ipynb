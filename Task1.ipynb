{
  "nbformat": 4,
  "nbformat_minor": 0,
  "metadata": {
    "colab": {
      "provenance": [],
      "collapsed_sections": [],
      "authorship_tag": "ABX9TyOkznihoIL9qHJ1J5iZT+f0",
      "include_colab_link": true
    },
    "kernelspec": {
      "name": "python3",
      "display_name": "Python 3"
    },
    "language_info": {
      "name": "python"
    }
  },
  "cells": [
    {
      "cell_type": "markdown",
      "metadata": {
        "id": "view-in-github",
        "colab_type": "text"
      },
      "source": [
        "<a href=\"https://colab.research.google.com/github/lexxxegorov/HOMEWORKPY/blob/master/Task1.ipynb\" target=\"_parent\"><img src=\"https://colab.research.google.com/assets/colab-badge.svg\" alt=\"Open In Colab\"/></a>"
      ]
    },
    {
      "cell_type": "markdown",
      "source": [
        "Даны значения зарплат из выборки выпускников: 100, 80, 75, 77, 89, 33, 45, 25, 65, 17, 30, 24, 57, 55, 70, 75, 65, 84, 90, 150. Посчитать (желательно без использования статистических методов наподобие std, var, mean) среднее арифметическое, среднее квадратичное отклонение, смещенную и несмещенную оценки дисперсий для данной выборки."
      ],
      "metadata": {
        "id": "KCHm7FLBlHHH"
      }
    },
    {
      "cell_type": "code",
      "source": [
        "import numpy as np"
      ],
      "metadata": {
        "id": "-si5p9kz1nIq"
      },
      "execution_count": null,
      "outputs": []
    },
    {
      "cell_type": "code",
      "execution_count": null,
      "metadata": {
        "id": "waknCLzPlGpO"
      },
      "outputs": [],
      "source": [
        "salaries = np.array([100, 80, 75, 77, 89, 33, 45, 25, 65, 17, 30, 24, 57, 55, 70, 75, 65, 84, 90, 150])"
      ]
    },
    {
      "cell_type": "markdown",
      "source": [
        "Cреднее арифметическое"
      ],
      "metadata": {
        "id": "QBYtC8Tw1c3D"
      }
    },
    {
      "cell_type": "code",
      "source": [
        "salaries_mean = salaries.sum() / salaries.size\n",
        "salaries_mean "
      ],
      "metadata": {
        "colab": {
          "base_uri": "https://localhost:8080/"
        },
        "id": "w-Dte6Io1atk",
        "outputId": "0a31d15c-0ec9-4731-8360-56eef26cddc1"
      },
      "execution_count": null,
      "outputs": [
        {
          "output_type": "execute_result",
          "data": {
            "text/plain": [
              "65.3"
            ]
          },
          "metadata": {},
          "execution_count": 7
        }
      ]
    },
    {
      "cell_type": "markdown",
      "source": [
        "Cреднее квадратичное отклонение"
      ],
      "metadata": {
        "id": "OoyQcteP1hEx"
      }
    },
    {
      "cell_type": "code",
      "source": [
        "(np.sum((salaries - salaries_mean)**2) / salaries.size)**0.5"
      ],
      "metadata": {
        "colab": {
          "base_uri": "https://localhost:8080/"
        },
        "id": "gEhq1FuG1u6I",
        "outputId": "5294f916-f03a-4961-8580-18494d511e06"
      },
      "execution_count": null,
      "outputs": [
        {
          "output_type": "execute_result",
          "data": {
            "text/plain": [
              "30.823854398825596"
            ]
          },
          "metadata": {},
          "execution_count": 4
        }
      ]
    },
    {
      "cell_type": "markdown",
      "source": [
        "Cмещенную дисперсию"
      ],
      "metadata": {
        "id": "0n-1dUCi10Nt"
      }
    },
    {
      "cell_type": "code",
      "source": [
        "np.sum((salaries - salaries_mean)**2) / salaries.size"
      ],
      "metadata": {
        "colab": {
          "base_uri": "https://localhost:8080/"
        },
        "id": "8332uNvz12XL",
        "outputId": "a650ed39-2868-4975-d660-834eb4cc952b"
      },
      "execution_count": null,
      "outputs": [
        {
          "output_type": "execute_result",
          "data": {
            "text/plain": [
              "950.11"
            ]
          },
          "metadata": {},
          "execution_count": 5
        }
      ]
    },
    {
      "cell_type": "markdown",
      "source": [
        "Несмещенную дисперсию"
      ],
      "metadata": {
        "id": "H4saNwjj15ZM"
      }
    },
    {
      "cell_type": "code",
      "source": [
        "np.sum((salaries - salaries_mean)**2) / (salaries.size - 1)"
      ],
      "metadata": {
        "colab": {
          "base_uri": "https://localhost:8080/"
        },
        "id": "lVJ85-7b17xo",
        "outputId": "2eea0772-464e-4af6-d5e0-6310424c40b2"
      },
      "execution_count": null,
      "outputs": [
        {
          "output_type": "execute_result",
          "data": {
            "text/plain": [
              "1000.1157894736842"
            ]
          },
          "metadata": {},
          "execution_count": 6
        }
      ]
    }
  ]
}